{
 "cells": [
  {
   "cell_type": "code",
   "execution_count": 23,
   "metadata": {},
   "outputs": [],
   "source": [
    "import numpy as np\n",
    "import pandas as pd\n",
    "\n",
    "#visualization\n",
    "import matplotlib.pyplot as plt\n",
    "# import seaborn as sns\n",
    "\n",
    "# import cv2\n",
    "from sklearn.model_selection import train_test_split\n",
    "from sklearn.svm import SVC\n",
    "from sklearn.model_selection import GridSearchCV\n",
    "from sklearn import metrics"
   ]
  },
  {
   "cell_type": "code",
   "execution_count": 24,
   "metadata": {},
   "outputs": [
    {
     "data": {
      "text/plain": [
       "['arr_0', 'arr_1']"
      ]
     },
     "execution_count": 24,
     "metadata": {},
     "output_type": "execute_result"
    }
   ],
   "source": [
    "# load numpy array\n",
    "data = np.load('./data/data_pca_50_target.npz')\n",
    "data.files"
   ]
  },
  {
   "cell_type": "code",
   "execution_count": 25,
   "metadata": {},
   "outputs": [],
   "source": [
    "data.allow_pickle = True"
   ]
  },
  {
   "cell_type": "code",
   "execution_count": 26,
   "metadata": {},
   "outputs": [],
   "source": [
    "X = data['arr_0'] #pca data with 50 components\n",
    "Y = data['arr_1'] # target or dependent variable"
   ]
  },
  {
   "cell_type": "code",
   "execution_count": 27,
   "metadata": {},
   "outputs": [
    {
     "data": {
      "text/plain": [
       "((5609, 50), (5609,))"
      ]
     },
     "execution_count": 27,
     "metadata": {},
     "output_type": "execute_result"
    }
   ],
   "source": [
    "X.shape, Y.shape"
   ]
  },
  {
   "cell_type": "code",
   "execution_count": 28,
   "metadata": {},
   "outputs": [],
   "source": [
    "## split the data in to train and test set"
   ]
  },
  {
   "cell_type": "code",
   "execution_count": 29,
   "metadata": {},
   "outputs": [
    {
     "name": "stdout",
     "output_type": "stream",
     "text": [
      "(4487, 50) (1122, 50) (4487,) (1122,)\n"
     ]
    }
   ],
   "source": [
    "x_train, x_test, y_train, y_test = train_test_split(X,Y, test_size=0.2, stratify=Y)\n",
    "print(x_train.shape, x_test.shape, y_train.shape, y_test.shape)"
   ]
  },
  {
   "cell_type": "code",
   "execution_count": 30,
   "metadata": {},
   "outputs": [],
   "source": [
    "###train the machine learning model"
   ]
  },
  {
   "cell_type": "code",
   "execution_count": 31,
   "metadata": {},
   "outputs": [],
   "source": [
    "model_svc = SVC(probability=True)\n",
    "param_grid = {'C': [0.5,1,10,20,30,50],\n",
    "              'kernel': ['rbf', 'poly'],\n",
    "              'gamma':[0.1,0.05,0.01,0.001,0.002,0.005],\n",
    "              'coef0': [0,1]}"
   ]
  },
  {
   "cell_type": "code",
   "execution_count": 32,
   "metadata": {},
   "outputs": [],
   "source": [
    "model_grid = GridSearchCV(model_svc, param_grid=param_grid, scoring='accuracy', cv=3, verbose=2)"
   ]
  },
  {
   "cell_type": "code",
   "execution_count": 33,
   "metadata": {},
   "outputs": [
    {
     "name": "stdout",
     "output_type": "stream",
     "text": [
      "Fitting 3 folds for each of 144 candidates, totalling 432 fits\n"
     ]
    },
    {
     "name": "stdout",
     "output_type": "stream",
     "text": [
      "[CV] END ..............C=0.5, coef0=0, gamma=0.1, kernel=rbf; total time=   4.9s\n",
      "[CV] END ..............C=0.5, coef0=0, gamma=0.1, kernel=rbf; total time=   6.0s\n",
      "[CV] END ..............C=0.5, coef0=0, gamma=0.1, kernel=rbf; total time=   4.9s\n",
      "[CV] END .............C=0.5, coef0=0, gamma=0.1, kernel=poly; total time=   2.4s\n",
      "[CV] END .............C=0.5, coef0=0, gamma=0.1, kernel=poly; total time=   2.3s\n",
      "[CV] END .............C=0.5, coef0=0, gamma=0.1, kernel=poly; total time=   2.4s\n",
      "[CV] END .............C=0.5, coef0=0, gamma=0.05, kernel=rbf; total time=   3.6s\n",
      "[CV] END .............C=0.5, coef0=0, gamma=0.05, kernel=rbf; total time=   3.5s\n",
      "[CV] END .............C=0.5, coef0=0, gamma=0.05, kernel=rbf; total time=   3.5s\n",
      "[CV] END ............C=0.5, coef0=0, gamma=0.05, kernel=poly; total time=   2.2s\n",
      "[CV] END ............C=0.5, coef0=0, gamma=0.05, kernel=poly; total time=   2.1s\n",
      "[CV] END ............C=0.5, coef0=0, gamma=0.05, kernel=poly; total time=   2.1s\n",
      "[CV] END .............C=0.5, coef0=0, gamma=0.01, kernel=rbf; total time=   2.7s\n",
      "[CV] END .............C=0.5, coef0=0, gamma=0.01, kernel=rbf; total time=   2.8s\n",
      "[CV] END .............C=0.5, coef0=0, gamma=0.01, kernel=rbf; total time=   2.8s\n",
      "[CV] END ............C=0.5, coef0=0, gamma=0.01, kernel=poly; total time=   1.9s\n",
      "[CV] END ............C=0.5, coef0=0, gamma=0.01, kernel=poly; total time=   1.9s\n",
      "[CV] END ............C=0.5, coef0=0, gamma=0.01, kernel=poly; total time=   2.0s\n",
      "[CV] END ............C=0.5, coef0=0, gamma=0.001, kernel=rbf; total time=   3.4s\n",
      "[CV] END ............C=0.5, coef0=0, gamma=0.001, kernel=rbf; total time=   4.8s\n",
      "[CV] END ............C=0.5, coef0=0, gamma=0.001, kernel=rbf; total time=   3.4s\n",
      "[CV] END ...........C=0.5, coef0=0, gamma=0.001, kernel=poly; total time=   2.0s\n",
      "[CV] END ...........C=0.5, coef0=0, gamma=0.001, kernel=poly; total time=   2.2s\n",
      "[CV] END ...........C=0.5, coef0=0, gamma=0.001, kernel=poly; total time=   2.2s\n",
      "[CV] END ............C=0.5, coef0=0, gamma=0.002, kernel=rbf; total time=   3.9s\n",
      "[CV] END ............C=0.5, coef0=0, gamma=0.002, kernel=rbf; total time=   3.4s\n",
      "[CV] END ............C=0.5, coef0=0, gamma=0.002, kernel=rbf; total time=   4.0s\n",
      "[CV] END ...........C=0.5, coef0=0, gamma=0.002, kernel=poly; total time=   2.0s\n",
      "[CV] END ...........C=0.5, coef0=0, gamma=0.002, kernel=poly; total time=   1.9s\n",
      "[CV] END ...........C=0.5, coef0=0, gamma=0.002, kernel=poly; total time=   1.9s\n",
      "[CV] END ............C=0.5, coef0=0, gamma=0.005, kernel=rbf; total time=   2.7s\n",
      "[CV] END ............C=0.5, coef0=0, gamma=0.005, kernel=rbf; total time=   3.0s\n",
      "[CV] END ............C=0.5, coef0=0, gamma=0.005, kernel=rbf; total time=   3.8s\n",
      "[CV] END ...........C=0.5, coef0=0, gamma=0.005, kernel=poly; total time=   2.4s\n",
      "[CV] END ...........C=0.5, coef0=0, gamma=0.005, kernel=poly; total time=   2.2s\n",
      "[CV] END ...........C=0.5, coef0=0, gamma=0.005, kernel=poly; total time=   2.1s\n",
      "[CV] END ..............C=0.5, coef0=1, gamma=0.1, kernel=rbf; total time=   4.9s\n",
      "[CV] END ..............C=0.5, coef0=1, gamma=0.1, kernel=rbf; total time=   4.1s\n",
      "[CV] END ..............C=0.5, coef0=1, gamma=0.1, kernel=rbf; total time=   4.5s\n",
      "[CV] END .............C=0.5, coef0=1, gamma=0.1, kernel=poly; total time=   1.9s\n",
      "[CV] END .............C=0.5, coef0=1, gamma=0.1, kernel=poly; total time=   1.9s\n",
      "[CV] END .............C=0.5, coef0=1, gamma=0.1, kernel=poly; total time=   1.9s\n",
      "[CV] END .............C=0.5, coef0=1, gamma=0.05, kernel=rbf; total time=   3.7s\n",
      "[CV] END .............C=0.5, coef0=1, gamma=0.05, kernel=rbf; total time=   4.1s\n",
      "[CV] END .............C=0.5, coef0=1, gamma=0.05, kernel=rbf; total time=   5.0s\n",
      "[CV] END ............C=0.5, coef0=1, gamma=0.05, kernel=poly; total time=   1.8s\n",
      "[CV] END ............C=0.5, coef0=1, gamma=0.05, kernel=poly; total time=   2.5s\n",
      "[CV] END ............C=0.5, coef0=1, gamma=0.05, kernel=poly; total time=   2.0s\n",
      "[CV] END .............C=0.5, coef0=1, gamma=0.01, kernel=rbf; total time=   3.0s\n",
      "[CV] END .............C=0.5, coef0=1, gamma=0.01, kernel=rbf; total time=   3.1s\n",
      "[CV] END .............C=0.5, coef0=1, gamma=0.01, kernel=rbf; total time=   2.8s\n",
      "[CV] END ............C=0.5, coef0=1, gamma=0.01, kernel=poly; total time=   1.4s\n",
      "[CV] END ............C=0.5, coef0=1, gamma=0.01, kernel=poly; total time=   1.7s\n",
      "[CV] END ............C=0.5, coef0=1, gamma=0.01, kernel=poly; total time=   1.6s\n",
      "[CV] END ............C=0.5, coef0=1, gamma=0.001, kernel=rbf; total time=   3.5s\n",
      "[CV] END ............C=0.5, coef0=1, gamma=0.001, kernel=rbf; total time=   4.0s\n",
      "[CV] END ............C=0.5, coef0=1, gamma=0.001, kernel=rbf; total time=   4.0s\n",
      "[CV] END ...........C=0.5, coef0=1, gamma=0.001, kernel=poly; total time=   2.1s\n",
      "[CV] END ...........C=0.5, coef0=1, gamma=0.001, kernel=poly; total time=   2.1s\n",
      "[CV] END ...........C=0.5, coef0=1, gamma=0.001, kernel=poly; total time=   1.7s\n",
      "[CV] END ............C=0.5, coef0=1, gamma=0.002, kernel=rbf; total time=   3.6s\n",
      "[CV] END ............C=0.5, coef0=1, gamma=0.002, kernel=rbf; total time=   3.6s\n",
      "[CV] END ............C=0.5, coef0=1, gamma=0.002, kernel=rbf; total time=   3.5s\n",
      "[CV] END ...........C=0.5, coef0=1, gamma=0.002, kernel=poly; total time=   1.4s\n",
      "[CV] END ...........C=0.5, coef0=1, gamma=0.002, kernel=poly; total time=   1.8s\n",
      "[CV] END ...........C=0.5, coef0=1, gamma=0.002, kernel=poly; total time=   1.8s\n",
      "[CV] END ............C=0.5, coef0=1, gamma=0.005, kernel=rbf; total time=   3.4s\n",
      "[CV] END ............C=0.5, coef0=1, gamma=0.005, kernel=rbf; total time=   3.3s\n",
      "[CV] END ............C=0.5, coef0=1, gamma=0.005, kernel=rbf; total time=   4.1s\n",
      "[CV] END ...........C=0.5, coef0=1, gamma=0.005, kernel=poly; total time=   1.8s\n",
      "[CV] END ...........C=0.5, coef0=1, gamma=0.005, kernel=poly; total time=   2.1s\n",
      "[CV] END ...........C=0.5, coef0=1, gamma=0.005, kernel=poly; total time=   1.8s\n",
      "[CV] END ................C=1, coef0=0, gamma=0.1, kernel=rbf; total time=   5.8s\n",
      "[CV] END ................C=1, coef0=0, gamma=0.1, kernel=rbf; total time=   4.2s\n",
      "[CV] END ................C=1, coef0=0, gamma=0.1, kernel=rbf; total time=   4.1s\n",
      "[CV] END ...............C=1, coef0=0, gamma=0.1, kernel=poly; total time=   2.4s\n",
      "[CV] END ...............C=1, coef0=0, gamma=0.1, kernel=poly; total time=   2.4s\n",
      "[CV] END ...............C=1, coef0=0, gamma=0.1, kernel=poly; total time=   2.3s\n",
      "[CV] END ...............C=1, coef0=0, gamma=0.05, kernel=rbf; total time=   3.8s\n",
      "[CV] END ...............C=1, coef0=0, gamma=0.05, kernel=rbf; total time=   3.8s\n",
      "[CV] END ...............C=1, coef0=0, gamma=0.05, kernel=rbf; total time=   3.7s\n",
      "[CV] END ..............C=1, coef0=0, gamma=0.05, kernel=poly; total time=   2.3s\n",
      "[CV] END ..............C=1, coef0=0, gamma=0.05, kernel=poly; total time=   2.2s\n",
      "[CV] END ..............C=1, coef0=0, gamma=0.05, kernel=poly; total time=   2.3s\n",
      "[CV] END ...............C=1, coef0=0, gamma=0.01, kernel=rbf; total time=   2.6s\n",
      "[CV] END ...............C=1, coef0=0, gamma=0.01, kernel=rbf; total time=   3.3s\n",
      "[CV] END ...............C=1, coef0=0, gamma=0.01, kernel=rbf; total time=   3.0s\n",
      "[CV] END ..............C=1, coef0=0, gamma=0.01, kernel=poly; total time=   2.6s\n",
      "[CV] END ..............C=1, coef0=0, gamma=0.01, kernel=poly; total time=   2.2s\n",
      "[CV] END ..............C=1, coef0=0, gamma=0.01, kernel=poly; total time=   2.4s\n",
      "[CV] END ..............C=1, coef0=0, gamma=0.001, kernel=rbf; total time=   3.7s\n",
      "[CV] END ..............C=1, coef0=0, gamma=0.001, kernel=rbf; total time=   3.4s\n",
      "[CV] END ..............C=1, coef0=0, gamma=0.001, kernel=rbf; total time=   3.7s\n",
      "[CV] END .............C=1, coef0=0, gamma=0.001, kernel=poly; total time=   2.2s\n",
      "[CV] END .............C=1, coef0=0, gamma=0.001, kernel=poly; total time=   2.3s\n",
      "[CV] END .............C=1, coef0=0, gamma=0.001, kernel=poly; total time=   2.4s\n",
      "[CV] END ..............C=1, coef0=0, gamma=0.002, kernel=rbf; total time=   3.3s\n",
      "[CV] END ..............C=1, coef0=0, gamma=0.002, kernel=rbf; total time=   3.2s\n",
      "[CV] END ..............C=1, coef0=0, gamma=0.002, kernel=rbf; total time=   3.3s\n",
      "[CV] END .............C=1, coef0=0, gamma=0.002, kernel=poly; total time=   2.5s\n",
      "[CV] END .............C=1, coef0=0, gamma=0.002, kernel=poly; total time=   2.3s\n",
      "[CV] END .............C=1, coef0=0, gamma=0.002, kernel=poly; total time=   2.0s\n",
      "[CV] END ..............C=1, coef0=0, gamma=0.005, kernel=rbf; total time=   2.7s\n",
      "[CV] END ..............C=1, coef0=0, gamma=0.005, kernel=rbf; total time=   2.9s\n",
      "[CV] END ..............C=1, coef0=0, gamma=0.005, kernel=rbf; total time=   2.7s\n",
      "[CV] END .............C=1, coef0=0, gamma=0.005, kernel=poly; total time=   2.8s\n",
      "[CV] END .............C=1, coef0=0, gamma=0.005, kernel=poly; total time=   2.9s\n",
      "[CV] END .............C=1, coef0=0, gamma=0.005, kernel=poly; total time=   2.5s\n",
      "[CV] END ................C=1, coef0=1, gamma=0.1, kernel=rbf; total time=   4.9s\n",
      "[CV] END ................C=1, coef0=1, gamma=0.1, kernel=rbf; total time=   5.1s\n",
      "[CV] END ................C=1, coef0=1, gamma=0.1, kernel=rbf; total time=   4.8s\n",
      "[CV] END ...............C=1, coef0=1, gamma=0.1, kernel=poly; total time=   2.1s\n",
      "[CV] END ...............C=1, coef0=1, gamma=0.1, kernel=poly; total time=   1.9s\n",
      "[CV] END ...............C=1, coef0=1, gamma=0.1, kernel=poly; total time=   2.1s\n",
      "[CV] END ...............C=1, coef0=1, gamma=0.05, kernel=rbf; total time=   4.1s\n",
      "[CV] END ...............C=1, coef0=1, gamma=0.05, kernel=rbf; total time=   3.8s\n",
      "[CV] END ...............C=1, coef0=1, gamma=0.05, kernel=rbf; total time=   4.5s\n",
      "[CV] END ..............C=1, coef0=1, gamma=0.05, kernel=poly; total time=   2.2s\n",
      "[CV] END ..............C=1, coef0=1, gamma=0.05, kernel=poly; total time=   2.0s\n",
      "[CV] END ..............C=1, coef0=1, gamma=0.05, kernel=poly; total time=   2.1s\n",
      "[CV] END ...............C=1, coef0=1, gamma=0.01, kernel=rbf; total time=   2.9s\n",
      "[CV] END ...............C=1, coef0=1, gamma=0.01, kernel=rbf; total time=   2.9s\n",
      "[CV] END ...............C=1, coef0=1, gamma=0.01, kernel=rbf; total time=   3.2s\n",
      "[CV] END ..............C=1, coef0=1, gamma=0.01, kernel=poly; total time=   1.6s\n",
      "[CV] END ..............C=1, coef0=1, gamma=0.01, kernel=poly; total time=   2.3s\n",
      "[CV] END ..............C=1, coef0=1, gamma=0.01, kernel=poly; total time=   1.8s\n",
      "[CV] END ..............C=1, coef0=1, gamma=0.001, kernel=rbf; total time=   4.4s\n",
      "[CV] END ..............C=1, coef0=1, gamma=0.001, kernel=rbf; total time=   3.1s\n",
      "[CV] END ..............C=1, coef0=1, gamma=0.001, kernel=rbf; total time=   3.2s\n",
      "[CV] END .............C=1, coef0=1, gamma=0.001, kernel=poly; total time=   1.6s\n",
      "[CV] END .............C=1, coef0=1, gamma=0.001, kernel=poly; total time=   1.5s\n",
      "[CV] END .............C=1, coef0=1, gamma=0.001, kernel=poly; total time=   1.5s\n",
      "[CV] END ..............C=1, coef0=1, gamma=0.002, kernel=rbf; total time=   2.7s\n",
      "[CV] END ..............C=1, coef0=1, gamma=0.002, kernel=rbf; total time=   2.7s\n",
      "[CV] END ..............C=1, coef0=1, gamma=0.002, kernel=rbf; total time=   2.9s\n",
      "[CV] END .............C=1, coef0=1, gamma=0.002, kernel=poly; total time=   1.6s\n",
      "[CV] END .............C=1, coef0=1, gamma=0.002, kernel=poly; total time=   1.5s\n",
      "[CV] END .............C=1, coef0=1, gamma=0.002, kernel=poly; total time=   1.4s\n",
      "[CV] END ..............C=1, coef0=1, gamma=0.005, kernel=rbf; total time=   2.6s\n",
      "[CV] END ..............C=1, coef0=1, gamma=0.005, kernel=rbf; total time=   2.5s\n",
      "[CV] END ..............C=1, coef0=1, gamma=0.005, kernel=rbf; total time=   2.6s\n",
      "[CV] END .............C=1, coef0=1, gamma=0.005, kernel=poly; total time=   1.5s\n",
      "[CV] END .............C=1, coef0=1, gamma=0.005, kernel=poly; total time=   1.4s\n",
      "[CV] END .............C=1, coef0=1, gamma=0.005, kernel=poly; total time=   1.5s\n",
      "[CV] END ...............C=10, coef0=0, gamma=0.1, kernel=rbf; total time=   4.1s\n",
      "[CV] END ...............C=10, coef0=0, gamma=0.1, kernel=rbf; total time=   4.1s\n",
      "[CV] END ...............C=10, coef0=0, gamma=0.1, kernel=rbf; total time=   4.1s\n",
      "[CV] END ..............C=10, coef0=0, gamma=0.1, kernel=poly; total time=   3.6s\n",
      "[CV] END ..............C=10, coef0=0, gamma=0.1, kernel=poly; total time=   2.7s\n",
      "[CV] END ..............C=10, coef0=0, gamma=0.1, kernel=poly; total time=   3.0s\n",
      "[CV] END ..............C=10, coef0=0, gamma=0.05, kernel=rbf; total time=   3.9s\n",
      "[CV] END ..............C=10, coef0=0, gamma=0.05, kernel=rbf; total time=   3.8s\n",
      "[CV] END ..............C=10, coef0=0, gamma=0.05, kernel=rbf; total time=   3.9s\n",
      "[CV] END .............C=10, coef0=0, gamma=0.05, kernel=poly; total time=   2.4s\n",
      "[CV] END .............C=10, coef0=0, gamma=0.05, kernel=poly; total time=   2.4s\n",
      "[CV] END .............C=10, coef0=0, gamma=0.05, kernel=poly; total time=   2.6s\n",
      "[CV] END ..............C=10, coef0=0, gamma=0.01, kernel=rbf; total time=   3.7s\n",
      "[CV] END ..............C=10, coef0=0, gamma=0.01, kernel=rbf; total time=   3.0s\n",
      "[CV] END ..............C=10, coef0=0, gamma=0.01, kernel=rbf; total time=   3.4s\n",
      "[CV] END .............C=10, coef0=0, gamma=0.01, kernel=poly; total time=   2.1s\n",
      "[CV] END .............C=10, coef0=0, gamma=0.01, kernel=poly; total time=   2.0s\n",
      "[CV] END .............C=10, coef0=0, gamma=0.01, kernel=poly; total time=   2.0s\n",
      "[CV] END .............C=10, coef0=0, gamma=0.001, kernel=rbf; total time=   2.4s\n",
      "[CV] END .............C=10, coef0=0, gamma=0.001, kernel=rbf; total time=   2.4s\n",
      "[CV] END .............C=10, coef0=0, gamma=0.001, kernel=rbf; total time=   2.4s\n",
      "[CV] END ............C=10, coef0=0, gamma=0.001, kernel=poly; total time=   2.5s\n",
      "[CV] END ............C=10, coef0=0, gamma=0.001, kernel=poly; total time=   2.3s\n",
      "[CV] END ............C=10, coef0=0, gamma=0.001, kernel=poly; total time=   2.4s\n",
      "[CV] END .............C=10, coef0=0, gamma=0.002, kernel=rbf; total time=   2.9s\n",
      "[CV] END .............C=10, coef0=0, gamma=0.002, kernel=rbf; total time=   2.9s\n",
      "[CV] END .............C=10, coef0=0, gamma=0.002, kernel=rbf; total time=   2.8s\n",
      "[CV] END ............C=10, coef0=0, gamma=0.002, kernel=poly; total time=   1.9s\n",
      "[CV] END ............C=10, coef0=0, gamma=0.002, kernel=poly; total time=   2.0s\n",
      "[CV] END ............C=10, coef0=0, gamma=0.002, kernel=poly; total time=   2.0s\n",
      "[CV] END .............C=10, coef0=0, gamma=0.005, kernel=rbf; total time=   2.8s\n",
      "[CV] END .............C=10, coef0=0, gamma=0.005, kernel=rbf; total time=   2.6s\n",
      "[CV] END .............C=10, coef0=0, gamma=0.005, kernel=rbf; total time=   3.6s\n",
      "[CV] END ............C=10, coef0=0, gamma=0.005, kernel=poly; total time=   2.6s\n",
      "[CV] END ............C=10, coef0=0, gamma=0.005, kernel=poly; total time=   2.5s\n",
      "[CV] END ............C=10, coef0=0, gamma=0.005, kernel=poly; total time=   1.9s\n",
      "[CV] END ...............C=10, coef0=1, gamma=0.1, kernel=rbf; total time=   3.9s\n",
      "[CV] END ...............C=10, coef0=1, gamma=0.1, kernel=rbf; total time=   3.9s\n",
      "[CV] END ...............C=10, coef0=1, gamma=0.1, kernel=rbf; total time=   4.0s\n",
      "[CV] END ..............C=10, coef0=1, gamma=0.1, kernel=poly; total time=   1.8s\n",
      "[CV] END ..............C=10, coef0=1, gamma=0.1, kernel=poly; total time=   1.8s\n",
      "[CV] END ..............C=10, coef0=1, gamma=0.1, kernel=poly; total time=   2.2s\n",
      "[CV] END ..............C=10, coef0=1, gamma=0.05, kernel=rbf; total time=   4.6s\n",
      "[CV] END ..............C=10, coef0=1, gamma=0.05, kernel=rbf; total time=   4.6s\n",
      "[CV] END ..............C=10, coef0=1, gamma=0.05, kernel=rbf; total time=   4.8s\n",
      "[CV] END .............C=10, coef0=1, gamma=0.05, kernel=poly; total time=   2.6s\n",
      "[CV] END .............C=10, coef0=1, gamma=0.05, kernel=poly; total time=   2.2s\n",
      "[CV] END .............C=10, coef0=1, gamma=0.05, kernel=poly; total time=   1.9s\n",
      "[CV] END ..............C=10, coef0=1, gamma=0.01, kernel=rbf; total time=   3.2s\n",
      "[CV] END ..............C=10, coef0=1, gamma=0.01, kernel=rbf; total time=   3.4s\n",
      "[CV] END ..............C=10, coef0=1, gamma=0.01, kernel=rbf; total time=   3.5s\n",
      "[CV] END .............C=10, coef0=1, gamma=0.01, kernel=poly; total time=   2.3s\n",
      "[CV] END .............C=10, coef0=1, gamma=0.01, kernel=poly; total time=   2.6s\n",
      "[CV] END .............C=10, coef0=1, gamma=0.01, kernel=poly; total time=   2.9s\n",
      "[CV] END .............C=10, coef0=1, gamma=0.001, kernel=rbf; total time=   3.1s\n",
      "[CV] END .............C=10, coef0=1, gamma=0.001, kernel=rbf; total time=   2.5s\n",
      "[CV] END .............C=10, coef0=1, gamma=0.001, kernel=rbf; total time=   2.9s\n",
      "[CV] END ............C=10, coef0=1, gamma=0.001, kernel=poly; total time=   1.8s\n",
      "[CV] END ............C=10, coef0=1, gamma=0.001, kernel=poly; total time=   1.9s\n",
      "[CV] END ............C=10, coef0=1, gamma=0.001, kernel=poly; total time=   1.4s\n",
      "[CV] END .............C=10, coef0=1, gamma=0.002, kernel=rbf; total time=   2.6s\n",
      "[CV] END .............C=10, coef0=1, gamma=0.002, kernel=rbf; total time=   2.5s\n",
      "[CV] END .............C=10, coef0=1, gamma=0.002, kernel=rbf; total time=   2.8s\n",
      "[CV] END ............C=10, coef0=1, gamma=0.002, kernel=poly; total time=   1.8s\n",
      "[CV] END ............C=10, coef0=1, gamma=0.002, kernel=poly; total time=   1.5s\n",
      "[CV] END ............C=10, coef0=1, gamma=0.002, kernel=poly; total time=   2.0s\n",
      "[CV] END .............C=10, coef0=1, gamma=0.005, kernel=rbf; total time=   3.3s\n",
      "[CV] END .............C=10, coef0=1, gamma=0.005, kernel=rbf; total time=   4.0s\n",
      "[CV] END .............C=10, coef0=1, gamma=0.005, kernel=rbf; total time=   3.1s\n",
      "[CV] END ............C=10, coef0=1, gamma=0.005, kernel=poly; total time=   2.5s\n",
      "[CV] END ............C=10, coef0=1, gamma=0.005, kernel=poly; total time=   2.1s\n",
      "[CV] END ............C=10, coef0=1, gamma=0.005, kernel=poly; total time=   2.1s\n",
      "[CV] END ...............C=20, coef0=0, gamma=0.1, kernel=rbf; total time=   4.7s\n",
      "[CV] END ...............C=20, coef0=0, gamma=0.1, kernel=rbf; total time=   4.9s\n",
      "[CV] END ...............C=20, coef0=0, gamma=0.1, kernel=rbf; total time=   5.5s\n",
      "[CV] END ..............C=20, coef0=0, gamma=0.1, kernel=poly; total time=   3.4s\n",
      "[CV] END ..............C=20, coef0=0, gamma=0.1, kernel=poly; total time=   2.7s\n",
      "[CV] END ..............C=20, coef0=0, gamma=0.1, kernel=poly; total time=   3.3s\n",
      "[CV] END ..............C=20, coef0=0, gamma=0.05, kernel=rbf; total time=   4.6s\n",
      "[CV] END ..............C=20, coef0=0, gamma=0.05, kernel=rbf; total time=   3.9s\n",
      "[CV] END ..............C=20, coef0=0, gamma=0.05, kernel=rbf; total time=   4.1s\n",
      "[CV] END .............C=20, coef0=0, gamma=0.05, kernel=poly; total time=   2.6s\n",
      "[CV] END .............C=20, coef0=0, gamma=0.05, kernel=poly; total time=   2.4s\n",
      "[CV] END .............C=20, coef0=0, gamma=0.05, kernel=poly; total time=   2.4s\n",
      "[CV] END ..............C=20, coef0=0, gamma=0.01, kernel=rbf; total time=   2.9s\n",
      "[CV] END ..............C=20, coef0=0, gamma=0.01, kernel=rbf; total time=   3.0s\n",
      "[CV] END ..............C=20, coef0=0, gamma=0.01, kernel=rbf; total time=   3.1s\n",
      "[CV] END .............C=20, coef0=0, gamma=0.01, kernel=poly; total time=   2.1s\n",
      "[CV] END .............C=20, coef0=0, gamma=0.01, kernel=poly; total time=   2.1s\n",
      "[CV] END .............C=20, coef0=0, gamma=0.01, kernel=poly; total time=   2.0s\n",
      "[CV] END .............C=20, coef0=0, gamma=0.001, kernel=rbf; total time=   2.4s\n",
      "[CV] END .............C=20, coef0=0, gamma=0.001, kernel=rbf; total time=   2.4s\n",
      "[CV] END .............C=20, coef0=0, gamma=0.001, kernel=rbf; total time=   2.4s\n",
      "[CV] END ............C=20, coef0=0, gamma=0.001, kernel=poly; total time=   1.9s\n",
      "[CV] END ............C=20, coef0=0, gamma=0.001, kernel=poly; total time=   1.9s\n",
      "[CV] END ............C=20, coef0=0, gamma=0.001, kernel=poly; total time=   1.9s\n",
      "[CV] END .............C=20, coef0=0, gamma=0.002, kernel=rbf; total time=   2.8s\n",
      "[CV] END .............C=20, coef0=0, gamma=0.002, kernel=rbf; total time=   3.0s\n",
      "[CV] END .............C=20, coef0=0, gamma=0.002, kernel=rbf; total time=   3.7s\n",
      "[CV] END ............C=20, coef0=0, gamma=0.002, kernel=poly; total time=   2.2s\n",
      "[CV] END ............C=20, coef0=0, gamma=0.002, kernel=poly; total time=   2.6s\n",
      "[CV] END ............C=20, coef0=0, gamma=0.002, kernel=poly; total time=   2.2s\n",
      "[CV] END .............C=20, coef0=0, gamma=0.005, kernel=rbf; total time=   3.4s\n",
      "[CV] END .............C=20, coef0=0, gamma=0.005, kernel=rbf; total time=   3.4s\n",
      "[CV] END .............C=20, coef0=0, gamma=0.005, kernel=rbf; total time=   3.6s\n",
      "[CV] END ............C=20, coef0=0, gamma=0.005, kernel=poly; total time=   3.0s\n",
      "[CV] END ............C=20, coef0=0, gamma=0.005, kernel=poly; total time=   2.3s\n",
      "[CV] END ............C=20, coef0=0, gamma=0.005, kernel=poly; total time=   2.2s\n",
      "[CV] END ...............C=20, coef0=1, gamma=0.1, kernel=rbf; total time=   4.1s\n",
      "[CV] END ...............C=20, coef0=1, gamma=0.1, kernel=rbf; total time=   4.3s\n",
      "[CV] END ...............C=20, coef0=1, gamma=0.1, kernel=rbf; total time=   3.9s\n",
      "[CV] END ..............C=20, coef0=1, gamma=0.1, kernel=poly; total time=   2.1s\n",
      "[CV] END ..............C=20, coef0=1, gamma=0.1, kernel=poly; total time=   1.9s\n",
      "[CV] END ..............C=20, coef0=1, gamma=0.1, kernel=poly; total time=   2.0s\n",
      "[CV] END ..............C=20, coef0=1, gamma=0.05, kernel=rbf; total time=   4.4s\n",
      "[CV] END ..............C=20, coef0=1, gamma=0.05, kernel=rbf; total time=   5.5s\n",
      "[CV] END ..............C=20, coef0=1, gamma=0.05, kernel=rbf; total time=   4.2s\n",
      "[CV] END .............C=20, coef0=1, gamma=0.05, kernel=poly; total time=   2.4s\n",
      "[CV] END .............C=20, coef0=1, gamma=0.05, kernel=poly; total time=   3.1s\n",
      "[CV] END .............C=20, coef0=1, gamma=0.05, kernel=poly; total time=   2.2s\n",
      "[CV] END ..............C=20, coef0=1, gamma=0.01, kernel=rbf; total time=   3.4s\n",
      "[CV] END ..............C=20, coef0=1, gamma=0.01, kernel=rbf; total time=   3.4s\n",
      "[CV] END ..............C=20, coef0=1, gamma=0.01, kernel=rbf; total time=   3.5s\n",
      "[CV] END .............C=20, coef0=1, gamma=0.01, kernel=poly; total time=   3.6s\n",
      "[CV] END .............C=20, coef0=1, gamma=0.01, kernel=poly; total time=   2.6s\n",
      "[CV] END .............C=20, coef0=1, gamma=0.01, kernel=poly; total time=   2.6s\n",
      "[CV] END .............C=20, coef0=1, gamma=0.001, kernel=rbf; total time=   3.0s\n",
      "[CV] END .............C=20, coef0=1, gamma=0.001, kernel=rbf; total time=   3.2s\n",
      "[CV] END .............C=20, coef0=1, gamma=0.001, kernel=rbf; total time=   2.7s\n",
      "[CV] END ............C=20, coef0=1, gamma=0.001, kernel=poly; total time=   2.0s\n",
      "[CV] END ............C=20, coef0=1, gamma=0.001, kernel=poly; total time=   1.6s\n",
      "[CV] END ............C=20, coef0=1, gamma=0.001, kernel=poly; total time=   1.7s\n",
      "[CV] END .............C=20, coef0=1, gamma=0.002, kernel=rbf; total time=   2.6s\n",
      "[CV] END .............C=20, coef0=1, gamma=0.002, kernel=rbf; total time=   2.8s\n",
      "[CV] END .............C=20, coef0=1, gamma=0.002, kernel=rbf; total time=   3.1s\n",
      "[CV] END ............C=20, coef0=1, gamma=0.002, kernel=poly; total time=   2.0s\n",
      "[CV] END ............C=20, coef0=1, gamma=0.002, kernel=poly; total time=   1.8s\n",
      "[CV] END ............C=20, coef0=1, gamma=0.002, kernel=poly; total time=   2.6s\n",
      "[CV] END .............C=20, coef0=1, gamma=0.005, kernel=rbf; total time=   3.1s\n",
      "[CV] END .............C=20, coef0=1, gamma=0.005, kernel=rbf; total time=   3.5s\n",
      "[CV] END .............C=20, coef0=1, gamma=0.005, kernel=rbf; total time=   3.3s\n",
      "[CV] END ............C=20, coef0=1, gamma=0.005, kernel=poly; total time=   3.1s\n",
      "[CV] END ............C=20, coef0=1, gamma=0.005, kernel=poly; total time=   3.5s\n",
      "[CV] END ............C=20, coef0=1, gamma=0.005, kernel=poly; total time=   2.8s\n",
      "[CV] END ...............C=30, coef0=0, gamma=0.1, kernel=rbf; total time=   4.9s\n",
      "[CV] END ...............C=30, coef0=0, gamma=0.1, kernel=rbf; total time=   6.3s\n",
      "[CV] END ...............C=30, coef0=0, gamma=0.1, kernel=rbf; total time=   5.7s\n",
      "[CV] END ..............C=30, coef0=0, gamma=0.1, kernel=poly; total time=   3.0s\n",
      "[CV] END ..............C=30, coef0=0, gamma=0.1, kernel=poly; total time=   2.6s\n",
      "[CV] END ..............C=30, coef0=0, gamma=0.1, kernel=poly; total time=   2.4s\n",
      "[CV] END ..............C=30, coef0=0, gamma=0.05, kernel=rbf; total time=   3.9s\n",
      "[CV] END ..............C=30, coef0=0, gamma=0.05, kernel=rbf; total time=   3.8s\n",
      "[CV] END ..............C=30, coef0=0, gamma=0.05, kernel=rbf; total time=   3.9s\n",
      "[CV] END .............C=30, coef0=0, gamma=0.05, kernel=poly; total time=   2.6s\n",
      "[CV] END .............C=30, coef0=0, gamma=0.05, kernel=poly; total time=   2.5s\n",
      "[CV] END .............C=30, coef0=0, gamma=0.05, kernel=poly; total time=   2.4s\n",
      "[CV] END ..............C=30, coef0=0, gamma=0.01, kernel=rbf; total time=   3.3s\n",
      "[CV] END ..............C=30, coef0=0, gamma=0.01, kernel=rbf; total time=   3.4s\n",
      "[CV] END ..............C=30, coef0=0, gamma=0.01, kernel=rbf; total time=   3.4s\n",
      "[CV] END .............C=30, coef0=0, gamma=0.01, kernel=poly; total time=   2.1s\n",
      "[CV] END .............C=30, coef0=0, gamma=0.01, kernel=poly; total time=   2.2s\n",
      "[CV] END .............C=30, coef0=0, gamma=0.01, kernel=poly; total time=   2.1s\n",
      "[CV] END .............C=30, coef0=0, gamma=0.001, kernel=rbf; total time=   2.5s\n",
      "[CV] END .............C=30, coef0=0, gamma=0.001, kernel=rbf; total time=   2.7s\n",
      "[CV] END .............C=30, coef0=0, gamma=0.001, kernel=rbf; total time=   4.1s\n",
      "[CV] END ............C=30, coef0=0, gamma=0.001, kernel=poly; total time=   2.1s\n",
      "[CV] END ............C=30, coef0=0, gamma=0.001, kernel=poly; total time=   2.1s\n",
      "[CV] END ............C=30, coef0=0, gamma=0.001, kernel=poly; total time=   2.2s\n",
      "[CV] END .............C=30, coef0=0, gamma=0.002, kernel=rbf; total time=   3.2s\n",
      "[CV] END .............C=30, coef0=0, gamma=0.002, kernel=rbf; total time=   3.3s\n",
      "[CV] END .............C=30, coef0=0, gamma=0.002, kernel=rbf; total time=   2.6s\n",
      "[CV] END ............C=30, coef0=0, gamma=0.002, kernel=poly; total time=   1.9s\n",
      "[CV] END ............C=30, coef0=0, gamma=0.002, kernel=poly; total time=   1.9s\n",
      "[CV] END ............C=30, coef0=0, gamma=0.002, kernel=poly; total time=   1.9s\n",
      "[CV] END .............C=30, coef0=0, gamma=0.005, kernel=rbf; total time=   2.8s\n",
      "[CV] END .............C=30, coef0=0, gamma=0.005, kernel=rbf; total time=   2.9s\n",
      "[CV] END .............C=30, coef0=0, gamma=0.005, kernel=rbf; total time=   2.9s\n",
      "[CV] END ............C=30, coef0=0, gamma=0.005, kernel=poly; total time=   1.9s\n",
      "[CV] END ............C=30, coef0=0, gamma=0.005, kernel=poly; total time=   1.9s\n",
      "[CV] END ............C=30, coef0=0, gamma=0.005, kernel=poly; total time=   1.9s\n",
      "[CV] END ...............C=30, coef0=1, gamma=0.1, kernel=rbf; total time=   3.9s\n",
      "[CV] END ...............C=30, coef0=1, gamma=0.1, kernel=rbf; total time=   4.7s\n",
      "[CV] END ...............C=30, coef0=1, gamma=0.1, kernel=rbf; total time=   4.8s\n",
      "[CV] END ..............C=30, coef0=1, gamma=0.1, kernel=poly; total time=   2.0s\n",
      "[CV] END ..............C=30, coef0=1, gamma=0.1, kernel=poly; total time=   2.1s\n",
      "[CV] END ..............C=30, coef0=1, gamma=0.1, kernel=poly; total time=   1.9s\n",
      "[CV] END ..............C=30, coef0=1, gamma=0.05, kernel=rbf; total time=   3.9s\n",
      "[CV] END ..............C=30, coef0=1, gamma=0.05, kernel=rbf; total time=   3.9s\n",
      "[CV] END ..............C=30, coef0=1, gamma=0.05, kernel=rbf; total time=   3.7s\n",
      "[CV] END .............C=30, coef0=1, gamma=0.05, kernel=poly; total time=   1.9s\n",
      "[CV] END .............C=30, coef0=1, gamma=0.05, kernel=poly; total time=   1.9s\n",
      "[CV] END .............C=30, coef0=1, gamma=0.05, kernel=poly; total time=   1.9s\n",
      "[CV] END ..............C=30, coef0=1, gamma=0.01, kernel=rbf; total time=   3.1s\n",
      "[CV] END ..............C=30, coef0=1, gamma=0.01, kernel=rbf; total time=   3.2s\n",
      "[CV] END ..............C=30, coef0=1, gamma=0.01, kernel=rbf; total time=   3.2s\n",
      "[CV] END .............C=30, coef0=1, gamma=0.01, kernel=poly; total time=   2.2s\n",
      "[CV] END .............C=30, coef0=1, gamma=0.01, kernel=poly; total time=   2.3s\n",
      "[CV] END .............C=30, coef0=1, gamma=0.01, kernel=poly; total time=   2.4s\n",
      "[CV] END .............C=30, coef0=1, gamma=0.001, kernel=rbf; total time=   2.8s\n",
      "[CV] END .............C=30, coef0=1, gamma=0.001, kernel=rbf; total time=   2.5s\n",
      "[CV] END .............C=30, coef0=1, gamma=0.001, kernel=rbf; total time=   2.6s\n",
      "[CV] END ............C=30, coef0=1, gamma=0.001, kernel=poly; total time=   1.5s\n",
      "[CV] END ............C=30, coef0=1, gamma=0.001, kernel=poly; total time=   1.5s\n",
      "[CV] END ............C=30, coef0=1, gamma=0.001, kernel=poly; total time=   1.5s\n",
      "[CV] END .............C=30, coef0=1, gamma=0.002, kernel=rbf; total time=   2.6s\n",
      "[CV] END .............C=30, coef0=1, gamma=0.002, kernel=rbf; total time=   2.6s\n",
      "[CV] END .............C=30, coef0=1, gamma=0.002, kernel=rbf; total time=   2.7s\n",
      "[CV] END ............C=30, coef0=1, gamma=0.002, kernel=poly; total time=   2.5s\n",
      "[CV] END ............C=30, coef0=1, gamma=0.002, kernel=poly; total time=   2.4s\n",
      "[CV] END ............C=30, coef0=1, gamma=0.002, kernel=poly; total time=   1.9s\n",
      "[CV] END .............C=30, coef0=1, gamma=0.005, kernel=rbf; total time=   3.0s\n",
      "[CV] END .............C=30, coef0=1, gamma=0.005, kernel=rbf; total time=   2.9s\n",
      "[CV] END .............C=30, coef0=1, gamma=0.005, kernel=rbf; total time=   2.9s\n",
      "[CV] END ............C=30, coef0=1, gamma=0.005, kernel=poly; total time=   2.4s\n",
      "[CV] END ............C=30, coef0=1, gamma=0.005, kernel=poly; total time=   2.5s\n",
      "[CV] END ............C=30, coef0=1, gamma=0.005, kernel=poly; total time=   3.4s\n",
      "[CV] END ...............C=50, coef0=0, gamma=0.1, kernel=rbf; total time=   5.4s\n",
      "[CV] END ...............C=50, coef0=0, gamma=0.1, kernel=rbf; total time=   4.9s\n",
      "[CV] END ...............C=50, coef0=0, gamma=0.1, kernel=rbf; total time=   5.2s\n",
      "[CV] END ..............C=50, coef0=0, gamma=0.1, kernel=poly; total time=   2.6s\n",
      "[CV] END ..............C=50, coef0=0, gamma=0.1, kernel=poly; total time=   2.5s\n",
      "[CV] END ..............C=50, coef0=0, gamma=0.1, kernel=poly; total time=   2.5s\n",
      "[CV] END ..............C=50, coef0=0, gamma=0.05, kernel=rbf; total time=   4.4s\n",
      "[CV] END ..............C=50, coef0=0, gamma=0.05, kernel=rbf; total time=   4.7s\n",
      "[CV] END ..............C=50, coef0=0, gamma=0.05, kernel=rbf; total time=   4.2s\n",
      "[CV] END .............C=50, coef0=0, gamma=0.05, kernel=poly; total time=   2.8s\n",
      "[CV] END .............C=50, coef0=0, gamma=0.05, kernel=poly; total time=   2.7s\n",
      "[CV] END .............C=50, coef0=0, gamma=0.05, kernel=poly; total time=   2.9s\n",
      "[CV] END ..............C=50, coef0=0, gamma=0.01, kernel=rbf; total time=   3.6s\n",
      "[CV] END ..............C=50, coef0=0, gamma=0.01, kernel=rbf; total time=   3.9s\n",
      "[CV] END ..............C=50, coef0=0, gamma=0.01, kernel=rbf; total time=   4.0s\n",
      "[CV] END .............C=50, coef0=0, gamma=0.01, kernel=poly; total time=   2.4s\n",
      "[CV] END .............C=50, coef0=0, gamma=0.01, kernel=poly; total time=   2.5s\n",
      "[CV] END .............C=50, coef0=0, gamma=0.01, kernel=poly; total time=   2.4s\n",
      "[CV] END .............C=50, coef0=0, gamma=0.001, kernel=rbf; total time=   3.8s\n",
      "[CV] END .............C=50, coef0=0, gamma=0.001, kernel=rbf; total time=   2.6s\n",
      "[CV] END .............C=50, coef0=0, gamma=0.001, kernel=rbf; total time=   2.9s\n",
      "[CV] END ............C=50, coef0=0, gamma=0.001, kernel=poly; total time=   2.3s\n",
      "[CV] END ............C=50, coef0=0, gamma=0.001, kernel=poly; total time=   2.2s\n",
      "[CV] END ............C=50, coef0=0, gamma=0.001, kernel=poly; total time=   2.1s\n",
      "[CV] END .............C=50, coef0=0, gamma=0.002, kernel=rbf; total time=   3.2s\n",
      "[CV] END .............C=50, coef0=0, gamma=0.002, kernel=rbf; total time=   3.0s\n",
      "[CV] END .............C=50, coef0=0, gamma=0.002, kernel=rbf; total time=   2.9s\n",
      "[CV] END ............C=50, coef0=0, gamma=0.002, kernel=poly; total time=   2.2s\n",
      "[CV] END ............C=50, coef0=0, gamma=0.002, kernel=poly; total time=   2.2s\n",
      "[CV] END ............C=50, coef0=0, gamma=0.002, kernel=poly; total time=   2.5s\n",
      "[CV] END .............C=50, coef0=0, gamma=0.005, kernel=rbf; total time=   3.4s\n",
      "[CV] END .............C=50, coef0=0, gamma=0.005, kernel=rbf; total time=   4.7s\n",
      "[CV] END .............C=50, coef0=0, gamma=0.005, kernel=rbf; total time=   4.8s\n",
      "[CV] END ............C=50, coef0=0, gamma=0.005, kernel=poly; total time=   2.3s\n",
      "[CV] END ............C=50, coef0=0, gamma=0.005, kernel=poly; total time=   2.3s\n",
      "[CV] END ............C=50, coef0=0, gamma=0.005, kernel=poly; total time=   2.4s\n",
      "[CV] END ...............C=50, coef0=1, gamma=0.1, kernel=rbf; total time=   4.7s\n",
      "[CV] END ...............C=50, coef0=1, gamma=0.1, kernel=rbf; total time=   4.7s\n",
      "[CV] END ...............C=50, coef0=1, gamma=0.1, kernel=rbf; total time=   4.7s\n",
      "[CV] END ..............C=50, coef0=1, gamma=0.1, kernel=poly; total time=   1.8s\n",
      "[CV] END ..............C=50, coef0=1, gamma=0.1, kernel=poly; total time=   1.7s\n",
      "[CV] END ..............C=50, coef0=1, gamma=0.1, kernel=poly; total time=   1.8s\n",
      "[CV] END ..............C=50, coef0=1, gamma=0.05, kernel=rbf; total time=   3.7s\n",
      "[CV] END ..............C=50, coef0=1, gamma=0.05, kernel=rbf; total time=   3.7s\n",
      "[CV] END ..............C=50, coef0=1, gamma=0.05, kernel=rbf; total time=   3.8s\n",
      "[CV] END .............C=50, coef0=1, gamma=0.05, kernel=poly; total time=   1.8s\n",
      "[CV] END .............C=50, coef0=1, gamma=0.05, kernel=poly; total time=   1.8s\n",
      "[CV] END .............C=50, coef0=1, gamma=0.05, kernel=poly; total time=   1.8s\n",
      "[CV] END ..............C=50, coef0=1, gamma=0.01, kernel=rbf; total time=   3.3s\n",
      "[CV] END ..............C=50, coef0=1, gamma=0.01, kernel=rbf; total time=   3.3s\n",
      "[CV] END ..............C=50, coef0=1, gamma=0.01, kernel=rbf; total time=   3.5s\n",
      "[CV] END .............C=50, coef0=1, gamma=0.01, kernel=poly; total time=   2.3s\n",
      "[CV] END .............C=50, coef0=1, gamma=0.01, kernel=poly; total time=   2.4s\n",
      "[CV] END .............C=50, coef0=1, gamma=0.01, kernel=poly; total time=   2.4s\n",
      "[CV] END .............C=50, coef0=1, gamma=0.001, kernel=rbf; total time=   2.5s\n",
      "[CV] END .............C=50, coef0=1, gamma=0.001, kernel=rbf; total time=   2.5s\n",
      "[CV] END .............C=50, coef0=1, gamma=0.001, kernel=rbf; total time=   2.5s\n",
      "[CV] END ............C=50, coef0=1, gamma=0.001, kernel=poly; total time=   1.9s\n",
      "[CV] END ............C=50, coef0=1, gamma=0.001, kernel=poly; total time=   2.4s\n",
      "[CV] END ............C=50, coef0=1, gamma=0.001, kernel=poly; total time=   2.1s\n",
      "[CV] END .............C=50, coef0=1, gamma=0.002, kernel=rbf; total time=   3.2s\n",
      "[CV] END .............C=50, coef0=1, gamma=0.002, kernel=rbf; total time=   3.8s\n",
      "[CV] END .............C=50, coef0=1, gamma=0.002, kernel=rbf; total time=   2.9s\n",
      "[CV] END ............C=50, coef0=1, gamma=0.002, kernel=poly; total time=   2.3s\n",
      "[CV] END ............C=50, coef0=1, gamma=0.002, kernel=poly; total time=   3.3s\n",
      "[CV] END ............C=50, coef0=1, gamma=0.002, kernel=poly; total time=   2.7s\n",
      "[CV] END .............C=50, coef0=1, gamma=0.005, kernel=rbf; total time=   3.4s\n",
      "[CV] END .............C=50, coef0=1, gamma=0.005, kernel=rbf; total time=   4.9s\n",
      "[CV] END .............C=50, coef0=1, gamma=0.005, kernel=rbf; total time=   3.8s\n",
      "[CV] END ............C=50, coef0=1, gamma=0.005, kernel=poly; total time=   3.1s\n",
      "[CV] END ............C=50, coef0=1, gamma=0.005, kernel=poly; total time=   3.4s\n",
      "[CV] END ............C=50, coef0=1, gamma=0.005, kernel=poly; total time=   3.3s\n"
     ]
    },
    {
     "data": {
      "text/html": [
       "<style>#sk-container-id-2 {color: black;}#sk-container-id-2 pre{padding: 0;}#sk-container-id-2 div.sk-toggleable {background-color: white;}#sk-container-id-2 label.sk-toggleable__label {cursor: pointer;display: block;width: 100%;margin-bottom: 0;padding: 0.3em;box-sizing: border-box;text-align: center;}#sk-container-id-2 label.sk-toggleable__label-arrow:before {content: \"▸\";float: left;margin-right: 0.25em;color: #696969;}#sk-container-id-2 label.sk-toggleable__label-arrow:hover:before {color: black;}#sk-container-id-2 div.sk-estimator:hover label.sk-toggleable__label-arrow:before {color: black;}#sk-container-id-2 div.sk-toggleable__content {max-height: 0;max-width: 0;overflow: hidden;text-align: left;background-color: #f0f8ff;}#sk-container-id-2 div.sk-toggleable__content pre {margin: 0.2em;color: black;border-radius: 0.25em;background-color: #f0f8ff;}#sk-container-id-2 input.sk-toggleable__control:checked~div.sk-toggleable__content {max-height: 200px;max-width: 100%;overflow: auto;}#sk-container-id-2 input.sk-toggleable__control:checked~label.sk-toggleable__label-arrow:before {content: \"▾\";}#sk-container-id-2 div.sk-estimator input.sk-toggleable__control:checked~label.sk-toggleable__label {background-color: #d4ebff;}#sk-container-id-2 div.sk-label input.sk-toggleable__control:checked~label.sk-toggleable__label {background-color: #d4ebff;}#sk-container-id-2 input.sk-hidden--visually {border: 0;clip: rect(1px 1px 1px 1px);clip: rect(1px, 1px, 1px, 1px);height: 1px;margin: -1px;overflow: hidden;padding: 0;position: absolute;width: 1px;}#sk-container-id-2 div.sk-estimator {font-family: monospace;background-color: #f0f8ff;border: 1px dotted black;border-radius: 0.25em;box-sizing: border-box;margin-bottom: 0.5em;}#sk-container-id-2 div.sk-estimator:hover {background-color: #d4ebff;}#sk-container-id-2 div.sk-parallel-item::after {content: \"\";width: 100%;border-bottom: 1px solid gray;flex-grow: 1;}#sk-container-id-2 div.sk-label:hover label.sk-toggleable__label {background-color: #d4ebff;}#sk-container-id-2 div.sk-serial::before {content: \"\";position: absolute;border-left: 1px solid gray;box-sizing: border-box;top: 0;bottom: 0;left: 50%;z-index: 0;}#sk-container-id-2 div.sk-serial {display: flex;flex-direction: column;align-items: center;background-color: white;padding-right: 0.2em;padding-left: 0.2em;position: relative;}#sk-container-id-2 div.sk-item {position: relative;z-index: 1;}#sk-container-id-2 div.sk-parallel {display: flex;align-items: stretch;justify-content: center;background-color: white;position: relative;}#sk-container-id-2 div.sk-item::before, #sk-container-id-2 div.sk-parallel-item::before {content: \"\";position: absolute;border-left: 1px solid gray;box-sizing: border-box;top: 0;bottom: 0;left: 50%;z-index: -1;}#sk-container-id-2 div.sk-parallel-item {display: flex;flex-direction: column;z-index: 1;position: relative;background-color: white;}#sk-container-id-2 div.sk-parallel-item:first-child::after {align-self: flex-end;width: 50%;}#sk-container-id-2 div.sk-parallel-item:last-child::after {align-self: flex-start;width: 50%;}#sk-container-id-2 div.sk-parallel-item:only-child::after {width: 0;}#sk-container-id-2 div.sk-dashed-wrapped {border: 1px dashed gray;margin: 0 0.4em 0.5em 0.4em;box-sizing: border-box;padding-bottom: 0.4em;background-color: white;}#sk-container-id-2 div.sk-label label {font-family: monospace;font-weight: bold;display: inline-block;line-height: 1.2em;}#sk-container-id-2 div.sk-label-container {text-align: center;}#sk-container-id-2 div.sk-container {/* jupyter's `normalize.less` sets `[hidden] { display: none; }` but bootstrap.min.css set `[hidden] { display: none !important; }` so we also need the `!important` here to be able to override the default hidden behavior on the sphinx rendered scikit-learn.org. See: https://github.com/scikit-learn/scikit-learn/issues/21755 */display: inline-block !important;position: relative;}#sk-container-id-2 div.sk-text-repr-fallback {display: none;}</style><div id=\"sk-container-id-2\" class=\"sk-top-container\"><div class=\"sk-text-repr-fallback\"><pre>GridSearchCV(cv=3, estimator=SVC(probability=True),\n",
       "             param_grid={&#x27;C&#x27;: [0.5, 1, 10, 20, 30, 50], &#x27;coef0&#x27;: [0, 1],\n",
       "                         &#x27;gamma&#x27;: [0.1, 0.05, 0.01, 0.001, 0.002, 0.005],\n",
       "                         &#x27;kernel&#x27;: [&#x27;rbf&#x27;, &#x27;poly&#x27;]},\n",
       "             scoring=&#x27;accuracy&#x27;, verbose=2)</pre><b>In a Jupyter environment, please rerun this cell to show the HTML representation or trust the notebook. <br />On GitHub, the HTML representation is unable to render, please try loading this page with nbviewer.org.</b></div><div class=\"sk-container\" hidden><div class=\"sk-item sk-dashed-wrapped\"><div class=\"sk-label-container\"><div class=\"sk-label sk-toggleable\"><input class=\"sk-toggleable__control sk-hidden--visually\" id=\"sk-estimator-id-4\" type=\"checkbox\" ><label for=\"sk-estimator-id-4\" class=\"sk-toggleable__label sk-toggleable__label-arrow\">GridSearchCV</label><div class=\"sk-toggleable__content\"><pre>GridSearchCV(cv=3, estimator=SVC(probability=True),\n",
       "             param_grid={&#x27;C&#x27;: [0.5, 1, 10, 20, 30, 50], &#x27;coef0&#x27;: [0, 1],\n",
       "                         &#x27;gamma&#x27;: [0.1, 0.05, 0.01, 0.001, 0.002, 0.005],\n",
       "                         &#x27;kernel&#x27;: [&#x27;rbf&#x27;, &#x27;poly&#x27;]},\n",
       "             scoring=&#x27;accuracy&#x27;, verbose=2)</pre></div></div></div><div class=\"sk-parallel\"><div class=\"sk-parallel-item\"><div class=\"sk-item\"><div class=\"sk-label-container\"><div class=\"sk-label sk-toggleable\"><input class=\"sk-toggleable__control sk-hidden--visually\" id=\"sk-estimator-id-5\" type=\"checkbox\" ><label for=\"sk-estimator-id-5\" class=\"sk-toggleable__label sk-toggleable__label-arrow\">estimator: SVC</label><div class=\"sk-toggleable__content\"><pre>SVC(probability=True)</pre></div></div></div><div class=\"sk-serial\"><div class=\"sk-item\"><div class=\"sk-estimator sk-toggleable\"><input class=\"sk-toggleable__control sk-hidden--visually\" id=\"sk-estimator-id-6\" type=\"checkbox\" ><label for=\"sk-estimator-id-6\" class=\"sk-toggleable__label sk-toggleable__label-arrow\">SVC</label><div class=\"sk-toggleable__content\"><pre>SVC(probability=True)</pre></div></div></div></div></div></div></div></div></div></div>"
      ],
      "text/plain": [
       "GridSearchCV(cv=3, estimator=SVC(probability=True),\n",
       "             param_grid={'C': [0.5, 1, 10, 20, 30, 50], 'coef0': [0, 1],\n",
       "                         'gamma': [0.1, 0.05, 0.01, 0.001, 0.002, 0.005],\n",
       "                         'kernel': ['rbf', 'poly']},\n",
       "             scoring='accuracy', verbose=2)"
      ]
     },
     "execution_count": 33,
     "metadata": {},
     "output_type": "execute_result"
    }
   ],
   "source": [
    "model_grid.fit(x_train, y_train)"
   ]
  },
  {
   "cell_type": "code",
   "execution_count": 34,
   "metadata": {},
   "outputs": [
    {
     "data": {
      "text/plain": [
       "{'C': 1, 'coef0': 0, 'gamma': 0.05, 'kernel': 'rbf'}"
      ]
     },
     "execution_count": 34,
     "metadata": {},
     "output_type": "execute_result"
    }
   ],
   "source": [
    "model_grid.best_params_"
   ]
  },
  {
   "cell_type": "code",
   "execution_count": 35,
   "metadata": {},
   "outputs": [],
   "source": [
    "model_finale = model_grid.best_estimator_"
   ]
  },
  {
   "cell_type": "code",
   "execution_count": 36,
   "metadata": {},
   "outputs": [
    {
     "data": {
      "text/plain": [
       "{'C': 1,\n",
       " 'break_ties': False,\n",
       " 'cache_size': 200,\n",
       " 'class_weight': None,\n",
       " 'coef0': 0,\n",
       " 'decision_function_shape': 'ovr',\n",
       " 'degree': 3,\n",
       " 'gamma': 0.05,\n",
       " 'kernel': 'rbf',\n",
       " 'max_iter': -1,\n",
       " 'probability': True,\n",
       " 'random_state': None,\n",
       " 'shrinking': True,\n",
       " 'tol': 0.001,\n",
       " 'verbose': False}"
      ]
     },
     "execution_count": 36,
     "metadata": {},
     "output_type": "execute_result"
    }
   ],
   "source": [
    "model_finale.get_params()"
   ]
  },
  {
   "cell_type": "code",
   "execution_count": 37,
   "metadata": {},
   "outputs": [],
   "source": [
    "#vvaluation"
   ]
  },
  {
   "cell_type": "code",
   "execution_count": 38,
   "metadata": {},
   "outputs": [],
   "source": [
    "y_pred = model_finale.predict(x_test)"
   ]
  },
  {
   "cell_type": "code",
   "execution_count": 39,
   "metadata": {},
   "outputs": [
    {
     "data": {
      "text/plain": [
       "array(['female', 'male', 'female', ..., 'male', 'female', 'female'],\n",
       "      dtype=object)"
      ]
     },
     "execution_count": 39,
     "metadata": {},
     "output_type": "execute_result"
    }
   ],
   "source": [
    "y_pred"
   ]
  },
  {
   "cell_type": "code",
   "execution_count": 40,
   "metadata": {},
   "outputs": [],
   "source": [
    "###classification report"
   ]
  },
  {
   "cell_type": "code",
   "execution_count": 41,
   "metadata": {},
   "outputs": [
    {
     "data": {
      "text/html": [
       "<div>\n",
       "<style scoped>\n",
       "    .dataframe tbody tr th:only-of-type {\n",
       "        vertical-align: middle;\n",
       "    }\n",
       "\n",
       "    .dataframe tbody tr th {\n",
       "        vertical-align: top;\n",
       "    }\n",
       "\n",
       "    .dataframe thead th {\n",
       "        text-align: right;\n",
       "    }\n",
       "</style>\n",
       "<table border=\"1\" class=\"dataframe\">\n",
       "  <thead>\n",
       "    <tr style=\"text-align: right;\">\n",
       "      <th></th>\n",
       "      <th>precision</th>\n",
       "      <th>recall</th>\n",
       "      <th>f1-score</th>\n",
       "      <th>support</th>\n",
       "    </tr>\n",
       "  </thead>\n",
       "  <tbody>\n",
       "    <tr>\n",
       "      <th>female</th>\n",
       "      <td>0.833049</td>\n",
       "      <td>0.812292</td>\n",
       "      <td>0.822540</td>\n",
       "      <td>602.000000</td>\n",
       "    </tr>\n",
       "    <tr>\n",
       "      <th>male</th>\n",
       "      <td>0.788785</td>\n",
       "      <td>0.811538</td>\n",
       "      <td>0.800000</td>\n",
       "      <td>520.000000</td>\n",
       "    </tr>\n",
       "    <tr>\n",
       "      <th>accuracy</th>\n",
       "      <td>0.811943</td>\n",
       "      <td>0.811943</td>\n",
       "      <td>0.811943</td>\n",
       "      <td>0.811943</td>\n",
       "    </tr>\n",
       "    <tr>\n",
       "      <th>macro avg</th>\n",
       "      <td>0.810917</td>\n",
       "      <td>0.811915</td>\n",
       "      <td>0.811270</td>\n",
       "      <td>1122.000000</td>\n",
       "    </tr>\n",
       "    <tr>\n",
       "      <th>weighted avg</th>\n",
       "      <td>0.812535</td>\n",
       "      <td>0.811943</td>\n",
       "      <td>0.812094</td>\n",
       "      <td>1122.000000</td>\n",
       "    </tr>\n",
       "  </tbody>\n",
       "</table>\n",
       "</div>"
      ],
      "text/plain": [
       "              precision    recall  f1-score      support\n",
       "female         0.833049  0.812292  0.822540   602.000000\n",
       "male           0.788785  0.811538  0.800000   520.000000\n",
       "accuracy       0.811943  0.811943  0.811943     0.811943\n",
       "macro avg      0.810917  0.811915  0.811270  1122.000000\n",
       "weighted avg   0.812535  0.811943  0.812094  1122.000000"
      ]
     },
     "execution_count": 41,
     "metadata": {},
     "output_type": "execute_result"
    }
   ],
   "source": [
    "cr = metrics.classification_report(y_test, y_pred, output_dict=True)\n",
    "pd.DataFrame(cr).T"
   ]
  },
  {
   "cell_type": "code",
   "execution_count": 42,
   "metadata": {},
   "outputs": [],
   "source": [
    "#kappa Score"
   ]
  },
  {
   "cell_type": "code",
   "execution_count": 43,
   "metadata": {},
   "outputs": [
    {
     "data": {
      "text/plain": [
       "0.6226076421545966"
      ]
     },
     "execution_count": 43,
     "metadata": {},
     "output_type": "execute_result"
    }
   ],
   "source": [
    "metrics.cohen_kappa_score(y_test, y_pred)"
   ]
  },
  {
   "cell_type": "code",
   "execution_count": 44,
   "metadata": {},
   "outputs": [],
   "source": [
    "#area under curve(AUC)"
   ]
  },
  {
   "cell_type": "code",
   "execution_count": 45,
   "metadata": {},
   "outputs": [
    {
     "data": {
      "text/plain": [
       "0.8119154101712242"
      ]
     },
     "execution_count": 45,
     "metadata": {},
     "output_type": "execute_result"
    }
   ],
   "source": [
    "metrics.roc_auc_score(np.where(y_test=='male', 1, 0), np.where(y_pred=='male', 1, 0))"
   ]
  },
  {
   "cell_type": "code",
   "execution_count": 46,
   "metadata": {},
   "outputs": [],
   "source": [
    "###save face recognition model\n",
    "import pickle"
   ]
  },
  {
   "cell_type": "code",
   "execution_count": 47,
   "metadata": {},
   "outputs": [],
   "source": [
    "pickle.dump(model_finale, open('./model/model_svm.pickle', mode='wb'))"
   ]
  },
  {
   "cell_type": "code",
   "execution_count": null,
   "metadata": {},
   "outputs": [],
   "source": []
  },
  {
   "cell_type": "code",
   "execution_count": null,
   "metadata": {},
   "outputs": [],
   "source": []
  },
  {
   "cell_type": "code",
   "execution_count": null,
   "metadata": {},
   "outputs": [],
   "source": []
  },
  {
   "cell_type": "code",
   "execution_count": null,
   "metadata": {},
   "outputs": [],
   "source": []
  },
  {
   "cell_type": "code",
   "execution_count": null,
   "metadata": {},
   "outputs": [],
   "source": []
  },
  {
   "cell_type": "code",
   "execution_count": null,
   "metadata": {},
   "outputs": [],
   "source": []
  },
  {
   "cell_type": "code",
   "execution_count": null,
   "metadata": {},
   "outputs": [],
   "source": []
  },
  {
   "cell_type": "code",
   "execution_count": null,
   "metadata": {},
   "outputs": [],
   "source": []
  }
 ],
 "metadata": {
  "kernelspec": {
   "display_name": "base",
   "language": "python",
   "name": "python3"
  },
  "language_info": {
   "codemirror_mode": {
    "name": "ipython",
    "version": 3
   },
   "file_extension": ".py",
   "mimetype": "text/x-python",
   "name": "python",
   "nbconvert_exporter": "python",
   "pygments_lexer": "ipython3",
   "version": "3.11.5"
  }
 },
 "nbformat": 4,
 "nbformat_minor": 2
}
